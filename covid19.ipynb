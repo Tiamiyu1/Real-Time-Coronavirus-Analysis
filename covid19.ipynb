{
 "metadata": {
  "language_info": {
   "codemirror_mode": {
    "name": "ipython",
    "version": 3
   },
   "file_extension": ".py",
   "mimetype": "text/x-python",
   "name": "python",
   "nbconvert_exporter": "python",
   "pygments_lexer": "ipython3",
   "version": "3.8.3-final"
  },
  "orig_nbformat": 2,
  "kernelspec": {
   "name": "python3",
   "display_name": "Python 3"
  }
 },
 "nbformat": 4,
 "nbformat_minor": 2,
 "cells": [
  {
   "source": [
    "## Global Analysis"
   ],
   "cell_type": "markdown",
   "metadata": {}
  },
  {
   "source": [
    "### Import Libraries"
   ],
   "cell_type": "markdown",
   "metadata": {}
  },
  {
   "cell_type": "code",
   "execution_count": 5,
   "metadata": {},
   "outputs": [],
   "source": [
    "import pandas as pd"
   ]
  },
  {
   "source": [
    "### Load Datasets"
   ],
   "cell_type": "markdown",
   "metadata": {}
  },
  {
   "source": [
    "The John Hopkins University provides an updated repository of the Coronavirus Pandemic Datasets.\n",
    "<br>\n",
    "The dataset is maintained and the update frequency is daily at about 23:59 UTC. "
   ],
   "cell_type": "markdown",
   "metadata": {}
  },
  {
   "source": [
    "### Task 1\n",
    "<br>\n",
    "The task here is to read the data from the John Hopkins University GitHub repository, and save it to your workspace for analysis.\n",
    "<br>\n",
    "Repository - [Link](https://raw.githubusercontent.com/datasets/covid-19/master/data/time-series-19-covid-combined.csv)\n",
    "<br>\n",
    "You can check out this guide [here](https://community.insaid.co/hc/en-us/articles/360052303453-How-to-read-a-csv-dataset-from-GitHub-in-Pandas-) on how to read the data\n"
   ],
   "cell_type": "markdown",
   "metadata": {}
  },
  {
   "cell_type": "code",
   "execution_count": 7,
   "metadata": {},
   "outputs": [],
   "source": [
    "global_cases = 'https://raw.githubusercontent.com/datasets/covid-19/master/data/time-series-19-covid-combined.csv'"
   ]
  },
  {
   "cell_type": "code",
   "execution_count": 8,
   "metadata": {},
   "outputs": [],
   "source": [
    "df_global_cases = pd.read_csv(global_cases)"
   ]
  },
  {
   "source": [
    "### Task 2\n",
    "<br>\n",
    "Using the Pandas `head` method, view the first five rows"
   ],
   "cell_type": "markdown",
   "metadata": {}
  },
  {
   "cell_type": "code",
   "execution_count": 9,
   "metadata": {},
   "outputs": [
    {
     "output_type": "execute_result",
     "data": {
      "text/plain": [
       "         Date Country/Region Province/State  Confirmed  Recovered  Deaths\n",
       "0  2020-01-22    Afghanistan            NaN          0        0.0       0\n",
       "1  2020-01-23    Afghanistan            NaN          0        0.0       0\n",
       "2  2020-01-24    Afghanistan            NaN          0        0.0       0\n",
       "3  2020-01-25    Afghanistan            NaN          0        0.0       0\n",
       "4  2020-01-26    Afghanistan            NaN          0        0.0       0"
      ],
      "text/html": "<div>\n<style scoped>\n    .dataframe tbody tr th:only-of-type {\n        vertical-align: middle;\n    }\n\n    .dataframe tbody tr th {\n        vertical-align: top;\n    }\n\n    .dataframe thead th {\n        text-align: right;\n    }\n</style>\n<table border=\"1\" class=\"dataframe\">\n  <thead>\n    <tr style=\"text-align: right;\">\n      <th></th>\n      <th>Date</th>\n      <th>Country/Region</th>\n      <th>Province/State</th>\n      <th>Confirmed</th>\n      <th>Recovered</th>\n      <th>Deaths</th>\n    </tr>\n  </thead>\n  <tbody>\n    <tr>\n      <th>0</th>\n      <td>2020-01-22</td>\n      <td>Afghanistan</td>\n      <td>NaN</td>\n      <td>0</td>\n      <td>0.0</td>\n      <td>0</td>\n    </tr>\n    <tr>\n      <th>1</th>\n      <td>2020-01-23</td>\n      <td>Afghanistan</td>\n      <td>NaN</td>\n      <td>0</td>\n      <td>0.0</td>\n      <td>0</td>\n    </tr>\n    <tr>\n      <th>2</th>\n      <td>2020-01-24</td>\n      <td>Afghanistan</td>\n      <td>NaN</td>\n      <td>0</td>\n      <td>0.0</td>\n      <td>0</td>\n    </tr>\n    <tr>\n      <th>3</th>\n      <td>2020-01-25</td>\n      <td>Afghanistan</td>\n      <td>NaN</td>\n      <td>0</td>\n      <td>0.0</td>\n      <td>0</td>\n    </tr>\n    <tr>\n      <th>4</th>\n      <td>2020-01-26</td>\n      <td>Afghanistan</td>\n      <td>NaN</td>\n      <td>0</td>\n      <td>0.0</td>\n      <td>0</td>\n    </tr>\n  </tbody>\n</table>\n</div>"
     },
     "metadata": {},
     "execution_count": 9
    }
   ],
   "source": [
    "df_global_cases.head()"
   ]
  },
  {
   "source": [
    "## Data Preparation"
   ],
   "cell_type": "markdown",
   "metadata": {}
  },
  {
   "source": [
    "### Task 3\n",
    "<br>\n",
    "* Rename the `Country/Region` column to `country`\n",
    "<br>\n",
    "* Drop the `Province/State` column "
   ],
   "cell_type": "markdown",
   "metadata": {}
  },
  {
   "cell_type": "code",
   "execution_count": 12,
   "metadata": {},
   "outputs": [],
   "source": [
    "df_global_cases = df_global_cases.rename(columns={'Country/Region':'Country'})"
   ]
  },
  {
   "cell_type": "code",
   "execution_count": 14,
   "metadata": {},
   "outputs": [],
   "source": [
    "df_global_cases = df_global_cases.drop('Province/State', axis=1)"
   ]
  },
  {
   "cell_type": "code",
   "execution_count": 15,
   "metadata": {},
   "outputs": [
    {
     "output_type": "execute_result",
     "data": {
      "text/plain": [
       "         Date      Country  Confirmed  Recovered  Deaths\n",
       "0  2020-01-22  Afghanistan          0        0.0       0\n",
       "1  2020-01-23  Afghanistan          0        0.0       0\n",
       "2  2020-01-24  Afghanistan          0        0.0       0\n",
       "3  2020-01-25  Afghanistan          0        0.0       0\n",
       "4  2020-01-26  Afghanistan          0        0.0       0"
      ],
      "text/html": "<div>\n<style scoped>\n    .dataframe tbody tr th:only-of-type {\n        vertical-align: middle;\n    }\n\n    .dataframe tbody tr th {\n        vertical-align: top;\n    }\n\n    .dataframe thead th {\n        text-align: right;\n    }\n</style>\n<table border=\"1\" class=\"dataframe\">\n  <thead>\n    <tr style=\"text-align: right;\">\n      <th></th>\n      <th>Date</th>\n      <th>Country</th>\n      <th>Confirmed</th>\n      <th>Recovered</th>\n      <th>Deaths</th>\n    </tr>\n  </thead>\n  <tbody>\n    <tr>\n      <th>0</th>\n      <td>2020-01-22</td>\n      <td>Afghanistan</td>\n      <td>0</td>\n      <td>0.0</td>\n      <td>0</td>\n    </tr>\n    <tr>\n      <th>1</th>\n      <td>2020-01-23</td>\n      <td>Afghanistan</td>\n      <td>0</td>\n      <td>0.0</td>\n      <td>0</td>\n    </tr>\n    <tr>\n      <th>2</th>\n      <td>2020-01-24</td>\n      <td>Afghanistan</td>\n      <td>0</td>\n      <td>0.0</td>\n      <td>0</td>\n    </tr>\n    <tr>\n      <th>3</th>\n      <td>2020-01-25</td>\n      <td>Afghanistan</td>\n      <td>0</td>\n      <td>0.0</td>\n      <td>0</td>\n    </tr>\n    <tr>\n      <th>4</th>\n      <td>2020-01-26</td>\n      <td>Afghanistan</td>\n      <td>0</td>\n      <td>0.0</td>\n      <td>0</td>\n    </tr>\n  </tbody>\n</table>\n</div>"
     },
     "metadata": {},
     "execution_count": 15
    }
   ],
   "source": [
    "df_global_cases.head()"
   ]
  },
  {
   "source": [
    "### Task 4\n",
    "<br>\n",
    "* It is of interest to determine the number of active cases of the virus. Your task here is to calculate the active cases by finding the differences between current confirmed cases and non-confirmed cases(Recovered & Death)\n",
    "<br>\n",
    "* Save your result to a new column - `Active`"
   ],
   "cell_type": "markdown",
   "metadata": {}
  },
  {
   "cell_type": "code",
   "execution_count": 16,
   "metadata": {},
   "outputs": [],
   "source": [
    "df_global_cases['Active'] = df_global_cases['Confirmed'] - df_global_cases['Recovered'] - df_global_cases['Deaths']"
   ]
  },
  {
   "cell_type": "code",
   "execution_count": 22,
   "metadata": {},
   "outputs": [
    {
     "output_type": "execute_result",
     "data": {
      "text/plain": [
       "             Date   Country  Confirmed  Recovered  Deaths  Active\n",
       "87528  2020-12-05  Zimbabwe      10617     8844.0     291  1482.0\n",
       "87529  2020-12-06  Zimbabwe      10718     8880.0     291  1547.0\n",
       "87530  2020-12-07  Zimbabwe      10839     8972.0     294  1573.0\n",
       "87531  2020-12-08  Zimbabwe      10912     9062.0     303  1547.0\n",
       "87532  2020-12-09  Zimbabwe      11007     9147.0     304  1556.0"
      ],
      "text/html": "<div>\n<style scoped>\n    .dataframe tbody tr th:only-of-type {\n        vertical-align: middle;\n    }\n\n    .dataframe tbody tr th {\n        vertical-align: top;\n    }\n\n    .dataframe thead th {\n        text-align: right;\n    }\n</style>\n<table border=\"1\" class=\"dataframe\">\n  <thead>\n    <tr style=\"text-align: right;\">\n      <th></th>\n      <th>Date</th>\n      <th>Country</th>\n      <th>Confirmed</th>\n      <th>Recovered</th>\n      <th>Deaths</th>\n      <th>Active</th>\n    </tr>\n  </thead>\n  <tbody>\n    <tr>\n      <th>87528</th>\n      <td>2020-12-05</td>\n      <td>Zimbabwe</td>\n      <td>10617</td>\n      <td>8844.0</td>\n      <td>291</td>\n      <td>1482.0</td>\n    </tr>\n    <tr>\n      <th>87529</th>\n      <td>2020-12-06</td>\n      <td>Zimbabwe</td>\n      <td>10718</td>\n      <td>8880.0</td>\n      <td>291</td>\n      <td>1547.0</td>\n    </tr>\n    <tr>\n      <th>87530</th>\n      <td>2020-12-07</td>\n      <td>Zimbabwe</td>\n      <td>10839</td>\n      <td>8972.0</td>\n      <td>294</td>\n      <td>1573.0</td>\n    </tr>\n    <tr>\n      <th>87531</th>\n      <td>2020-12-08</td>\n      <td>Zimbabwe</td>\n      <td>10912</td>\n      <td>9062.0</td>\n      <td>303</td>\n      <td>1547.0</td>\n    </tr>\n    <tr>\n      <th>87532</th>\n      <td>2020-12-09</td>\n      <td>Zimbabwe</td>\n      <td>11007</td>\n      <td>9147.0</td>\n      <td>304</td>\n      <td>1556.0</td>\n    </tr>\n  </tbody>\n</table>\n</div>"
     },
     "metadata": {},
     "execution_count": 22
    }
   ],
   "source": [
    "df_global_cases.tail()"
   ]
  },
  {
   "source": [
    "### Task 5 \n",
    "* Explore the dataset by picking a country e.g `Afghanistan`, and determine the total number of cases in the country.\n",
    "<br>\n",
    "<br> \n",
    "* You will observe some anomalies, write your observation, and how you intend to fix this. "
   ],
   "cell_type": "markdown",
   "metadata": {}
  },
  {
   "cell_type": "code",
   "execution_count": 25,
   "metadata": {},
   "outputs": [
    {
     "output_type": "execute_result",
     "data": {
      "text/plain": [
       "Date             2020-01-222020-01-232020-01-242020-01-252020-0...\n",
       "Country          AfghanistanAfghanistanAfghanistanAfghanistanAf...\n",
       "Confirmed                                                  7387702\n",
       "Recovered                                              5.12811e+06\n",
       "Deaths                                                      251784\n",
       "Active                                                 2.00781e+06\n",
       "confirmed_new                                                47716\n",
       "dtype: object"
      ]
     },
     "metadata": {},
     "execution_count": 25
    }
   ],
   "source": [
    "df_global_cases[df_global_cases['Country']=='Afghanistan'].sum()"
   ]
  },
  {
   "source": [
    "### Observation \n",
    "The total number cases is a lot e.g The confirmed cases is 7387702, which is way more than the total confirmed cases on 2020-12-09. A quick google search shows the total value to be about 47500."
   ],
   "cell_type": "markdown",
   "metadata": {}
  },
  {
   "source": [
    "### Task 6\n",
    "<br>\n",
    "* From your observation, create new columns for `Confirmed`, `Recovered`, `Deaths` and `Active`\n",
    "<br>\n",
    "<br>\n",
    "Hint\n",
    "<br>\n",
    "<br>\n",
    "* Group by `Country`, and specify the columns on which you want to perform the actual aggregation.\n",
    "<br>\n",
    "<br>\n",
    "* Shift each group by periods observations.\n",
    "<br>\n",
    "<br>\n",
    "* Subtract the cumulative values"
   ],
   "cell_type": "markdown",
   "metadata": {}
  },
  {
   "cell_type": "code",
   "execution_count": 26,
   "metadata": {},
   "outputs": [],
   "source": [
    "df_global_cases['confirmed_new'] = df_global_cases.groupby('Country')['Confirmed'].shift().diff(1)\n",
    "df_global_cases['recovered_new'] = df_global_cases.groupby('Country')['Recovered'].shift().diff(1)\n",
    "df_global_cases['deaths_new'] = df_global_cases.groupby('Country')['Deaths'].shift().diff(1)\n",
    "df_global_cases['active_new'] = df_global_cases.groupby('Country')['Active'].shift().diff(1)"
   ]
  },
  {
   "cell_type": "code",
   "execution_count": 27,
   "metadata": {},
   "outputs": [
    {
     "output_type": "execute_result",
     "data": {
      "text/plain": [
       "         Date      Country  Confirmed  Recovered  Deaths  Active  \\\n",
       "0  2020-01-22  Afghanistan          0        0.0       0     0.0   \n",
       "1  2020-01-23  Afghanistan          0        0.0       0     0.0   \n",
       "2  2020-01-24  Afghanistan          0        0.0       0     0.0   \n",
       "3  2020-01-25  Afghanistan          0        0.0       0     0.0   \n",
       "4  2020-01-26  Afghanistan          0        0.0       0     0.0   \n",
       "\n",
       "   confirmed_new  recovered_new  deaths_new  active_new  \n",
       "0            NaN            NaN         NaN         NaN  \n",
       "1            NaN            NaN         NaN         NaN  \n",
       "2            0.0            0.0         0.0         0.0  \n",
       "3            0.0            0.0         0.0         0.0  \n",
       "4            0.0            0.0         0.0         0.0  "
      ],
      "text/html": "<div>\n<style scoped>\n    .dataframe tbody tr th:only-of-type {\n        vertical-align: middle;\n    }\n\n    .dataframe tbody tr th {\n        vertical-align: top;\n    }\n\n    .dataframe thead th {\n        text-align: right;\n    }\n</style>\n<table border=\"1\" class=\"dataframe\">\n  <thead>\n    <tr style=\"text-align: right;\">\n      <th></th>\n      <th>Date</th>\n      <th>Country</th>\n      <th>Confirmed</th>\n      <th>Recovered</th>\n      <th>Deaths</th>\n      <th>Active</th>\n      <th>confirmed_new</th>\n      <th>recovered_new</th>\n      <th>deaths_new</th>\n      <th>active_new</th>\n    </tr>\n  </thead>\n  <tbody>\n    <tr>\n      <th>0</th>\n      <td>2020-01-22</td>\n      <td>Afghanistan</td>\n      <td>0</td>\n      <td>0.0</td>\n      <td>0</td>\n      <td>0.0</td>\n      <td>NaN</td>\n      <td>NaN</td>\n      <td>NaN</td>\n      <td>NaN</td>\n    </tr>\n    <tr>\n      <th>1</th>\n      <td>2020-01-23</td>\n      <td>Afghanistan</td>\n      <td>0</td>\n      <td>0.0</td>\n      <td>0</td>\n      <td>0.0</td>\n      <td>NaN</td>\n      <td>NaN</td>\n      <td>NaN</td>\n      <td>NaN</td>\n    </tr>\n    <tr>\n      <th>2</th>\n      <td>2020-01-24</td>\n      <td>Afghanistan</td>\n      <td>0</td>\n      <td>0.0</td>\n      <td>0</td>\n      <td>0.0</td>\n      <td>0.0</td>\n      <td>0.0</td>\n      <td>0.0</td>\n      <td>0.0</td>\n    </tr>\n    <tr>\n      <th>3</th>\n      <td>2020-01-25</td>\n      <td>Afghanistan</td>\n      <td>0</td>\n      <td>0.0</td>\n      <td>0</td>\n      <td>0.0</td>\n      <td>0.0</td>\n      <td>0.0</td>\n      <td>0.0</td>\n      <td>0.0</td>\n    </tr>\n    <tr>\n      <th>4</th>\n      <td>2020-01-26</td>\n      <td>Afghanistan</td>\n      <td>0</td>\n      <td>0.0</td>\n      <td>0</td>\n      <td>0.0</td>\n      <td>0.0</td>\n      <td>0.0</td>\n      <td>0.0</td>\n      <td>0.0</td>\n    </tr>\n  </tbody>\n</table>\n</div>"
     },
     "metadata": {},
     "execution_count": 27
    }
   ],
   "source": [
    "df_global_cases.head()"
   ]
  },
  {
   "source": [
    "### Task 7 \n",
    "* Drop the old columns"
   ],
   "cell_type": "markdown",
   "metadata": {}
  },
  {
   "cell_type": "code",
   "execution_count": 28,
   "metadata": {},
   "outputs": [],
   "source": [
    "df_global_cases = df_global_cases.drop(['Confirmed', 'Recovered', 'Deaths', 'Active'], axis = 1)"
   ]
  },
  {
   "cell_type": "code",
   "execution_count": 29,
   "metadata": {},
   "outputs": [
    {
     "output_type": "execute_result",
     "data": {
      "text/plain": [
       "         Date      Country  confirmed_new  recovered_new  deaths_new  \\\n",
       "0  2020-01-22  Afghanistan            NaN            NaN         NaN   \n",
       "1  2020-01-23  Afghanistan            NaN            NaN         NaN   \n",
       "2  2020-01-24  Afghanistan            0.0            0.0         0.0   \n",
       "3  2020-01-25  Afghanistan            0.0            0.0         0.0   \n",
       "4  2020-01-26  Afghanistan            0.0            0.0         0.0   \n",
       "\n",
       "   active_new  \n",
       "0         NaN  \n",
       "1         NaN  \n",
       "2         0.0  \n",
       "3         0.0  \n",
       "4         0.0  "
      ],
      "text/html": "<div>\n<style scoped>\n    .dataframe tbody tr th:only-of-type {\n        vertical-align: middle;\n    }\n\n    .dataframe tbody tr th {\n        vertical-align: top;\n    }\n\n    .dataframe thead th {\n        text-align: right;\n    }\n</style>\n<table border=\"1\" class=\"dataframe\">\n  <thead>\n    <tr style=\"text-align: right;\">\n      <th></th>\n      <th>Date</th>\n      <th>Country</th>\n      <th>confirmed_new</th>\n      <th>recovered_new</th>\n      <th>deaths_new</th>\n      <th>active_new</th>\n    </tr>\n  </thead>\n  <tbody>\n    <tr>\n      <th>0</th>\n      <td>2020-01-22</td>\n      <td>Afghanistan</td>\n      <td>NaN</td>\n      <td>NaN</td>\n      <td>NaN</td>\n      <td>NaN</td>\n    </tr>\n    <tr>\n      <th>1</th>\n      <td>2020-01-23</td>\n      <td>Afghanistan</td>\n      <td>NaN</td>\n      <td>NaN</td>\n      <td>NaN</td>\n      <td>NaN</td>\n    </tr>\n    <tr>\n      <th>2</th>\n      <td>2020-01-24</td>\n      <td>Afghanistan</td>\n      <td>0.0</td>\n      <td>0.0</td>\n      <td>0.0</td>\n      <td>0.0</td>\n    </tr>\n    <tr>\n      <th>3</th>\n      <td>2020-01-25</td>\n      <td>Afghanistan</td>\n      <td>0.0</td>\n      <td>0.0</td>\n      <td>0.0</td>\n      <td>0.0</td>\n    </tr>\n    <tr>\n      <th>4</th>\n      <td>2020-01-26</td>\n      <td>Afghanistan</td>\n      <td>0.0</td>\n      <td>0.0</td>\n      <td>0.0</td>\n      <td>0.0</td>\n    </tr>\n  </tbody>\n</table>\n</div>"
     },
     "metadata": {},
     "execution_count": 29
    }
   ],
   "source": [
    "df_global_cases.head()"
   ]
  },
  {
   "source": [
    "### Task 8\n",
    "* Create a new table to calculate the total number of cases by country\n",
    "* Save your result to a new table - `total_cases`"
   ],
   "cell_type": "markdown",
   "metadata": {}
  },
  {
   "cell_type": "code",
   "execution_count": 31,
   "metadata": {},
   "outputs": [],
   "source": [
    "total_cases = df_global_cases.groupby('Country').sum()"
   ]
  },
  {
   "cell_type": "code",
   "execution_count": 32,
   "metadata": {},
   "outputs": [
    {
     "output_type": "execute_result",
     "data": {
      "text/plain": [
       "                    confirmed_new  recovered_new  deaths_new  active_new\n",
       "Country                                                                 \n",
       "Afghanistan               47716.0        37920.0      1906.0      7890.0\n",
       "Albania                   44436.0        22527.0       936.0     20973.0\n",
       "Algeria                   89416.0        58146.0      2539.0     28731.0\n",
       "Andorra                    7127.0         6367.0        78.0       682.0\n",
       "Angola                    15729.0         8470.0       355.0      6904.0\n",
       "...                           ...            ...         ...         ...\n",
       "Vietnam                    1377.0         1224.0        35.0       118.0\n",
       "West Bank and Gaza       101109.0        75257.0       867.0     24985.0\n",
       "Yemen                      2078.0         1382.0       606.0        90.0\n",
       "Zambia                    17963.0        17268.0       364.0       331.0\n",
       "Zimbabwe                  10912.0         9062.0       303.0      1547.0\n",
       "\n",
       "[191 rows x 4 columns]"
      ],
      "text/html": "<div>\n<style scoped>\n    .dataframe tbody tr th:only-of-type {\n        vertical-align: middle;\n    }\n\n    .dataframe tbody tr th {\n        vertical-align: top;\n    }\n\n    .dataframe thead th {\n        text-align: right;\n    }\n</style>\n<table border=\"1\" class=\"dataframe\">\n  <thead>\n    <tr style=\"text-align: right;\">\n      <th></th>\n      <th>confirmed_new</th>\n      <th>recovered_new</th>\n      <th>deaths_new</th>\n      <th>active_new</th>\n    </tr>\n    <tr>\n      <th>Country</th>\n      <th></th>\n      <th></th>\n      <th></th>\n      <th></th>\n    </tr>\n  </thead>\n  <tbody>\n    <tr>\n      <th>Afghanistan</th>\n      <td>47716.0</td>\n      <td>37920.0</td>\n      <td>1906.0</td>\n      <td>7890.0</td>\n    </tr>\n    <tr>\n      <th>Albania</th>\n      <td>44436.0</td>\n      <td>22527.0</td>\n      <td>936.0</td>\n      <td>20973.0</td>\n    </tr>\n    <tr>\n      <th>Algeria</th>\n      <td>89416.0</td>\n      <td>58146.0</td>\n      <td>2539.0</td>\n      <td>28731.0</td>\n    </tr>\n    <tr>\n      <th>Andorra</th>\n      <td>7127.0</td>\n      <td>6367.0</td>\n      <td>78.0</td>\n      <td>682.0</td>\n    </tr>\n    <tr>\n      <th>Angola</th>\n      <td>15729.0</td>\n      <td>8470.0</td>\n      <td>355.0</td>\n      <td>6904.0</td>\n    </tr>\n    <tr>\n      <th>...</th>\n      <td>...</td>\n      <td>...</td>\n      <td>...</td>\n      <td>...</td>\n    </tr>\n    <tr>\n      <th>Vietnam</th>\n      <td>1377.0</td>\n      <td>1224.0</td>\n      <td>35.0</td>\n      <td>118.0</td>\n    </tr>\n    <tr>\n      <th>West Bank and Gaza</th>\n      <td>101109.0</td>\n      <td>75257.0</td>\n      <td>867.0</td>\n      <td>24985.0</td>\n    </tr>\n    <tr>\n      <th>Yemen</th>\n      <td>2078.0</td>\n      <td>1382.0</td>\n      <td>606.0</td>\n      <td>90.0</td>\n    </tr>\n    <tr>\n      <th>Zambia</th>\n      <td>17963.0</td>\n      <td>17268.0</td>\n      <td>364.0</td>\n      <td>331.0</td>\n    </tr>\n    <tr>\n      <th>Zimbabwe</th>\n      <td>10912.0</td>\n      <td>9062.0</td>\n      <td>303.0</td>\n      <td>1547.0</td>\n    </tr>\n  </tbody>\n</table>\n<p>191 rows × 4 columns</p>\n</div>"
     },
     "metadata": {},
     "execution_count": 32
    }
   ],
   "source": [
    "total_cases"
   ]
  },
  {
   "cell_type": "code",
   "execution_count": null,
   "metadata": {},
   "outputs": [],
   "source": []
  },
  {
   "source": [
    "### Import Libraries"
   ],
   "cell_type": "markdown",
   "metadata": {}
  },
  {
   "cell_type": "code",
   "execution_count": 2,
   "metadata": {},
   "outputs": [],
   "source": [
    "import pandas as pd\n",
    "import numpy as np"
   ]
  },
  {
   "source": [
    "zzzz## Load Datasets"
   ],
   "cell_type": "markdown",
   "metadata": {}
  },
  {
   "cell_type": "code",
   "execution_count": null,
   "metadata": {},
   "outputs": [],
   "source": []
  }
 ]
}